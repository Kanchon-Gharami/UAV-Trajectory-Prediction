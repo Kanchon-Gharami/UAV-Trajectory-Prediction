{
 "cells": [
  {
   "cell_type": "code",
   "execution_count": null,
   "id": "a79f9ecd",
   "metadata": {},
   "outputs": [],
   "source": [
    "\"\"\"\n",
    "Convert AirSim's airsim_rec.txt to a clean CSV for\n",
    "ego-UAV short-term trajectory prediction.\n",
    "\n",
    "Directory layout expected:\n",
    "[root]/\n",
    "├─ raw_data/\n",
    "│   ├─ airsim_rec.txt\n",
    "│   └─ images/\n",
    "│       └─ img_SimpleFlight__0_<timestamp>.png\n",
    "│\n",
    "└─ data_collector.py   <-- this file\n",
    "\n",
    "Note: After running airsim API (which have import airsim), there is a high change ipynb/juypter notebook will not work, \n",
    "because there is a conflict between `airsim` and `ipykernel` module. So you need to reinstall it by: `pip install ipykernel`.\n",
    "\"\"\"\n",
    "\n",
    "from pathlib import Path\n",
    "import pandas as pd\n",
    "import numpy as np\n",
    "from scipy.spatial.transform import Rotation as R\n",
    "\n",
    "# ----------------------- paths -----------------------\n",
    "ROOT = Path(__file__).resolve().parent if \"__file__\" in globals() else Path.cwd()\n",
    "RAW_DIR    = ROOT / \"raw_data\"\n",
    "TXT_FILE   = RAW_DIR / \"airsim_rec.txt\"\n",
    "OUT_CSV    = RAW_DIR / \"airsim_trajectory.csv\"\n"
   ]
  },
  {
   "cell_type": "code",
   "execution_count": 2,
   "id": "1a8e1525",
   "metadata": {},
   "outputs": [
    {
     "name": "stdout",
     "output_type": "stream",
     "text": [
      "[✓]  Saved 2,171 rows to raw_data\\airsim_trajectory.csv\n"
     ]
    }
   ],
   "source": [
    "# -------------------- load .txt ----------------------\n",
    "df = pd.read_csv(\n",
    "    TXT_FILE,\n",
    "    sep=r\"\\t+\",           # tab‑delimited\n",
    "    engine=\"python\",\n",
    "    comment=\"#\"\n",
    ")\n",
    "\n",
    "# ----------------- drop vehicle name ----------------\n",
    "df = df.drop(columns=[\"VehicleName\"], errors=\"ignore\")\n",
    "\n",
    "# ------------- quaternion ➜ roll‑pitch‑yaw ----------\n",
    "def quat_to_rpy(qw, qx, qy, qz):\n",
    "    # scipy expects (x, y, z, w)\n",
    "    r = R.from_quat([qx, qy, qz, qw])\n",
    "    return r.as_euler(\"xyz\", degrees=False)   # roll, pitch, yaw\n",
    "\n",
    "rpy = np.vstack([\n",
    "    quat_to_rpy(qw, qx, qy, qz)\n",
    "    for qw, qx, qy, qz in df[[\"Q_W\",\"Q_X\",\"Q_Y\",\"Q_Z\"]].values\n",
    "])\n",
    "df[[\"ROLL\",\"PITCH\",\"YAW\"]] = rpy\n",
    "\n",
    "# optional: drop quaternion columns\n",
    "df = df.drop(columns=[\"Q_W\",\"Q_X\",\"Q_Y\",\"Q_Z\"])\n",
    "\n",
    "# ---------- add sin/cos of yaw for continuity -------\n",
    "df[\"YAW_SIN\"] = np.sin(df[\"YAW\"])\n",
    "df[\"YAW_COS\"] = np.cos(df[\"YAW\"])\n",
    "\n",
    "# ----------------- compute velocity -----------------\n",
    "# AirSim TimeStamp is in micro‑seconds\n",
    "df[\"TimeSec\"] = df[\"TimeStamp\"] * 1e-6\n",
    "\n",
    "for axis in [\"X\",\"Y\",\"Z\"]:\n",
    "    df[f\"VEL_{axis}\"] = df[f\"POS_{axis}\"].diff() / df[\"TimeSec\"].diff()\n",
    "\n",
    "# first row has NaNs after diff – drop or fill\n",
    "df = df.dropna().reset_index(drop=True)\n",
    "\n",
    "# --------------- save cleaned CSV -------------------\n",
    "df.to_csv(OUT_CSV, index=False)\n",
    "print(f\"[✓]  Saved {len(df):,} rows to {OUT_CSV.relative_to(ROOT)}\")\n"
   ]
  },
  {
   "cell_type": "code",
   "execution_count": 3,
   "id": "ff4da3ac",
   "metadata": {},
   "outputs": [
    {
     "name": "stdout",
     "output_type": "stream",
     "text": [
      "       TimeStamp     POS_X         POS_Y    POS_Z  \\\n",
      "0  1748915233389  0.000163  1.398570e-12 -4.95733   \n",
      "1  1748915233440  0.001979  2.758130e-11 -4.94510   \n",
      "2  1748915233491  0.006992  1.201170e-10 -4.93691   \n",
      "3  1748915233542  0.016112  3.180450e-10 -4.93257   \n",
      "4  1748915233593  0.029758  6.557500e-10 -4.93101   \n",
      "\n",
      "                                     ImageFile          ROLL     PITCH  \\\n",
      "0  img_SimpleFlight__0_1748915233870793000.png  9.598816e-10 -0.069476   \n",
      "1  img_SimpleFlight__0_1748915233920475700.png  2.332944e-09 -0.111565   \n",
      "2  img_SimpleFlight__0_1748915233970870300.png  3.725878e-09 -0.141234   \n",
      "3  img_SimpleFlight__0_1748915234022091400.png  5.126236e-09 -0.160287   \n",
      "4  img_SimpleFlight__0_1748915234073948300.png  6.536680e-09 -0.170930   \n",
      "\n",
      "            YAW       YAW_SIN  YAW_COS       TimeSec       VEL_X  \\\n",
      "0 -4.079368e-11 -4.079368e-11      1.0  1.748915e+06    5.319817   \n",
      "1 -2.488914e-10 -2.488914e-10      1.0  1.748915e+06   35.612544   \n",
      "2 -6.059280e-10 -6.059280e-10      1.0  1.748915e+06   98.304602   \n",
      "3 -1.001040e-09 -1.001040e-09      1.0  1.748915e+06  178.822232   \n",
      "4 -1.449386e-09 -1.449386e-09      1.0  1.748915e+06  267.559229   \n",
      "\n",
      "          VEL_Y       VEL_Z  \n",
      "0  4.712789e-08  268.333373  \n",
      "1  5.133876e-07  239.804285  \n",
      "2  1.814420e-06  160.587746  \n",
      "3  3.880947e-06   85.098168  \n",
      "4  6.621677e-06   30.588282  \n"
     ]
    }
   ],
   "source": [
    "# ------------------------------------------------------------------\n",
    "# 6. Quick sanity check (optional)\n",
    "# ------------------------------------------------------------------\n",
    "print(df.head(5))\n"
   ]
  },
  {
   "cell_type": "code",
   "execution_count": null,
   "id": "104e4bd0",
   "metadata": {},
   "outputs": [],
   "source": []
  }
 ],
 "metadata": {
  "kernelspec": {
   "display_name": "AirEnv",
   "language": "python",
   "name": "python3"
  },
  "language_info": {
   "codemirror_mode": {
    "name": "ipython",
    "version": 3
   },
   "file_extension": ".py",
   "mimetype": "text/x-python",
   "name": "python",
   "nbconvert_exporter": "python",
   "pygments_lexer": "ipython3",
   "version": "3.10.5"
  }
 },
 "nbformat": 4,
 "nbformat_minor": 5
}
